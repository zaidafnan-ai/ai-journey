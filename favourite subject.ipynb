{
  "nbformat": 4,
  "nbformat_minor": 0,
  "metadata": {
    "colab": {
      "provenance": [],
      "authorship_tag": "ABX9TyM/Z5mh1cYdgpaAFqjnZ6Aq",
      "include_colab_link": true
    },
    "kernelspec": {
      "name": "python3",
      "display_name": "Python 3"
    },
    "language_info": {
      "name": "python"
    }
  },
  "cells": [
    {
      "cell_type": "markdown",
      "metadata": {
        "id": "view-in-github",
        "colab_type": "text"
      },
      "source": [
        "<a href=\"https://colab.research.google.com/github/zaidafnan-ai/ai-journey/blob/week-1/favourite%20subject.ipynb\" target=\"_parent\"><img src=\"https://colab.research.google.com/assets/colab-badge.svg\" alt=\"Open In Colab\"/></a>"
      ]
    },
    {
      "cell_type": "code",
      "source": [
        "name = input(\"What is your name? \")\n",
        "subject = input(\"What is your favorite subject? \")\n",
        "\n",
        "if subject.lower() == \"ai\":\n",
        "    print(\"Wow, we have the same interest!\")\n",
        "else:\n",
        "    print(\"Nice choice! But I prefer AI.\")\n"
      ],
      "metadata": {
        "colab": {
          "base_uri": "https://localhost:8080/"
        },
        "id": "T9RKPw6iMfrp",
        "outputId": "f2d37bf7-f926-418b-d1e0-b6888f3cce30"
      },
      "execution_count": 2,
      "outputs": [
        {
          "output_type": "stream",
          "name": "stdout",
          "text": [
            "What is your name? afnan\n",
            "What is your favorite subject? ai\n",
            "Wow, we have the same interest!\n"
          ]
        }
      ]
    }
  ]
}