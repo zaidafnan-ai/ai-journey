{
  "nbformat": 4,
  "nbformat_minor": 0,
  "metadata": {
    "colab": {
      "provenance": [],
      "authorship_tag": "ABX9TyO3sn5zRkXS66gOx3KKFcS/",
      "include_colab_link": true
    },
    "kernelspec": {
      "name": "python3",
      "display_name": "Python 3"
    },
    "language_info": {
      "name": "python"
    }
  },
  "cells": [
    {
      "cell_type": "markdown",
      "metadata": {
        "id": "view-in-github",
        "colab_type": "text"
      },
      "source": [
        "<a href=\"https://colab.research.google.com/github/zaidafnan-ai/ai-journey/blob/week-1/day3%20assignment.ipynb\" target=\"_parent\"><img src=\"https://colab.research.google.com/assets/colab-badge.svg\" alt=\"Open In Colab\"/></a>"
      ]
    },
    {
      "cell_type": "code",
      "source": [
        "count = 0\n",
        "while count < 3:\n",
        "    print(\"AI is powerful\")\n",
        "    count += 1"
      ],
      "metadata": {
        "colab": {
          "base_uri": "https://localhost:8080/"
        },
        "id": "T9RKPw6iMfrp",
        "outputId": "09a70ae8-5975-4764-fe5b-f7db2d82de42"
      },
      "execution_count": 6,
      "outputs": [
        {
          "output_type": "stream",
          "name": "stdout",
          "text": [
            "AI is powerful\n",
            "AI is powerful\n",
            "AI is powerful\n"
          ]
        }
      ]
    },
    {
      "cell_type": "code",
      "source": [
        "subjects= [\"cs\",\"ai\",\"phy\",\"chem\",\"math\"]\n",
        "for subject in subjects:\n",
        "  if subject == \"ai\":\n",
        "    print(subject,\"is may favourite subject\")\n",
        "  else:\n",
        "    print(\"subject:\",subject)"
      ],
      "metadata": {
        "colab": {
          "base_uri": "https://localhost:8080/"
        },
        "id": "HhUWHAEcMUTt",
        "outputId": "bacfe48f-12c7-4a58-b294-7db963511d78"
      },
      "execution_count": 19,
      "outputs": [
        {
          "output_type": "stream",
          "name": "stdout",
          "text": [
            "subject: cs\n",
            "ai is may favourite subject\n",
            "subject: phy\n",
            "subject: chem\n",
            "subject: math\n"
          ]
        }
      ]
    }
  ]
}