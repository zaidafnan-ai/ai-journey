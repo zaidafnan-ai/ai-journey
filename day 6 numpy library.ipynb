{
  "nbformat": 4,
  "nbformat_minor": 0,
  "metadata": {
    "colab": {
      "provenance": [],
      "authorship_tag": "ABX9TyOGuXnf75vchY1aNZFfbZmp",
      "include_colab_link": true
    },
    "kernelspec": {
      "name": "python3",
      "display_name": "Python 3"
    },
    "language_info": {
      "name": "python"
    }
  },
  "cells": [
    {
      "cell_type": "markdown",
      "metadata": {
        "id": "view-in-github",
        "colab_type": "text"
      },
      "source": [
        "<a href=\"https://colab.research.google.com/github/zaidafnan-ai/ai-journey/blob/week-2/day%206%20numpy%20library.ipynb\" target=\"_parent\"><img src=\"https://colab.research.google.com/assets/colab-badge.svg\" alt=\"Open In Colab\"/></a>"
      ]
    },
    {
      "cell_type": "code",
      "source": [
        "import numpy as np\n",
        "# Create 3x3 matrix of random integers from 1 to 9\n",
        "mat = np.random.randint(1, 10, (3, 3))\n",
        "print(\"Matrix:\\n\", mat)\n",
        "\n",
        "# Print diagonal\n",
        "print(\"Diagonal:\", np.diag(mat))\n",
        "\n",
        "# Find sum of each row\n",
        "print(\"Row Sums:\", np.sum(mat, axis=1))\n"
      ],
      "metadata": {
        "colab": {
          "base_uri": "https://localhost:8080/"
        },
        "id": "XVvxB-HDYmqO",
        "outputId": "7b644f02-a955-4496-bdca-3bf3bb7a5c80"
      },
      "execution_count": 35,
      "outputs": [
        {
          "output_type": "stream",
          "name": "stdout",
          "text": [
            "Matrix:\n",
            " [[6 7 4]\n",
            " [7 2 5]\n",
            " [8 6 9]]\n",
            "Diagonal: [6 2 9]\n",
            "Row Sums: [17 14 23]\n"
          ]
        }
      ]
    }
  ]
}