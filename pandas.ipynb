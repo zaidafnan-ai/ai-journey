{
  "nbformat": 4,
  "nbformat_minor": 0,
  "metadata": {
    "colab": {
      "provenance": [],
      "authorship_tag": "ABX9TyOkKalpe3EOhBqR9creeiQ0",
      "include_colab_link": true
    },
    "kernelspec": {
      "name": "python3",
      "display_name": "Python 3"
    },
    "language_info": {
      "name": "python"
    }
  },
  "cells": [
    {
      "cell_type": "markdown",
      "metadata": {
        "id": "view-in-github",
        "colab_type": "text"
      },
      "source": [
        "<a href=\"https://colab.research.google.com/github/zaidafnan-ai/ai-journey/blob/week-2/pandas.ipynb\" target=\"_parent\"><img src=\"https://colab.research.google.com/assets/colab-badge.svg\" alt=\"Open In Colab\"/></a>"
      ]
    },
    {
      "cell_type": "code",
      "source": [
        "import pandas as pd\n",
        "\n",
        "s = pd.Series([10, 20, 30])\n",
        "print(s)\n"
      ],
      "metadata": {
        "colab": {
          "base_uri": "https://localhost:8080/"
        },
        "id": "XVvxB-HDYmqO",
        "outputId": "337fc683-0658-45ab-a778-9bdcf86bff89"
      },
      "execution_count": 1,
      "outputs": [
        {
          "output_type": "stream",
          "name": "stdout",
          "text": [
            "0    10\n",
            "1    20\n",
            "2    30\n",
            "dtype: int64\n"
          ]
        }
      ]
    },
    {
      "cell_type": "code",
      "source": [
        "data = {\n",
        "    'Name': ['Ali', 'Sara', 'Zaid'],\n",
        "    'Age': [25, 30, 22]\n",
        "}\n",
        "\n",
        "df = pd.DataFrame(data)\n",
        "print(df)"
      ],
      "metadata": {
        "colab": {
          "base_uri": "https://localhost:8080/"
        },
        "id": "9ofzdVtLb65T",
        "outputId": "7e265eb2-6a8c-40ce-c824-7652a299115c"
      },
      "execution_count": 2,
      "outputs": [
        {
          "output_type": "stream",
          "name": "stdout",
          "text": [
            "   Name  Age\n",
            "0   Ali   25\n",
            "1  Sara   30\n",
            "2  Zaid   22\n"
          ]
        }
      ]
    },
    {
      "cell_type": "code",
      "source": [
        "import pandas as pd\n",
        "data = {\n",
        "    'Name': ['Fatima', 'Zaid', 'Ali', 'Sara'],\n",
        "    'Score': [90, 85, 75, None],\n",
        "    'Grade': ['A', 'B', 'B', 'A']\n",
        "}\n",
        "\n",
        "df = pd.DataFrame(data)\n",
        "average_score = df['Score'].mean()\n",
        "print(\"Average Score:\", average_score)\n",
        "df['Score'] = df['Score'].fillna(0)\n",
        "print(df['Score'])\n",
        "df['BoostedScore'] = df['Score'] + 10\n",
        "print(df['BoostedScore'])\n",
        "grade_A_df = df[df['Grade'] == 'A']\n",
        "print(grade_A_df)\n"
      ],
      "metadata": {
        "colab": {
          "base_uri": "https://localhost:8080/"
        },
        "id": "kK75PXi9c5gN",
        "outputId": "d2ca0608-32d8-4e4d-8523-38ff6850cdbb"
      },
      "execution_count": 11,
      "outputs": [
        {
          "output_type": "stream",
          "name": "stdout",
          "text": [
            "Average Score: 83.33333333333333\n",
            "0    90.0\n",
            "1    85.0\n",
            "2    75.0\n",
            "3     0.0\n",
            "Name: Score, dtype: float64\n",
            "0    100.0\n",
            "1     95.0\n",
            "2     85.0\n",
            "3     10.0\n",
            "Name: BoostedScore, dtype: float64\n",
            "     Name  Score Grade  BoostedScore\n",
            "0  Fatima   90.0     A         100.0\n",
            "3    Sara    0.0     A          10.0\n"
          ]
        }
      ]
    },
    {
      "cell_type": "code",
      "source": [],
      "metadata": {
        "id": "-FYsVsO3grF7"
      },
      "execution_count": null,
      "outputs": []
    }
  ]
}