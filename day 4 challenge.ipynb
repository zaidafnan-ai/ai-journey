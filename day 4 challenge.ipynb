{
  "nbformat": 4,
  "nbformat_minor": 0,
  "metadata": {
    "colab": {
      "provenance": [],
      "authorship_tag": "ABX9TyNw4WpUu5eILeHkEaLzZE34",
      "include_colab_link": true
    },
    "kernelspec": {
      "name": "python3",
      "display_name": "Python 3"
    },
    "language_info": {
      "name": "python"
    }
  },
  "cells": [
    {
      "cell_type": "markdown",
      "metadata": {
        "id": "view-in-github",
        "colab_type": "text"
      },
      "source": [
        "<a href=\"https://colab.research.google.com/github/zaidafnan-ai/ai-journey/blob/week-1/day%204%20challenge.ipynb\" target=\"_parent\"><img src=\"https://colab.research.google.com/assets/colab-badge.svg\" alt=\"Open In Colab\"/></a>"
      ]
    },
    {
      "cell_type": "code",
      "source": [
        "print(\"🎓 Welcome to Student AI Assistant 🤖\")\n",
        "name = input(\"What is your name? \")\n",
        "print(\"Hello\", name + \"!\")\n",
        "subjects = []\n",
        "\n",
        "for i in range(3):\n",
        "    subject = input(\"Enter one of your favorite subjects: \")\n",
        "    subjects.append(subject)\n",
        "    def subject_response(sub):\n",
        "        if sub.lower() == \"ai\":\n",
        "          return \"🧠 Wow! AI is the future. Great choice!\"\n",
        "        elif sub.lower() == \"math\":\n",
        "          return \"➗ Math is powerful for AI!\"\n",
        "        else:\n",
        "          return \"✅ That's a nice subject too!\"\n",
        "\n",
        "for sub in subjects:\n",
        "    print(subject_response(sub))\n",
        "print(\"\\nThanks\", name + \"! Keep learning and keep growing! 🚀\")"
      ],
      "metadata": {
        "colab": {
          "base_uri": "https://localhost:8080/"
        },
        "id": "T9RKPw6iMfrp",
        "outputId": "4bf58ff1-6216-40ae-9a3e-0bb5717c3ae7"
      },
      "execution_count": 7,
      "outputs": [
        {
          "output_type": "stream",
          "name": "stdout",
          "text": [
            "🎓 Welcome to Student AI Assistant 🤖\n",
            "What is your name? afnan\n",
            "Hello afnan!\n",
            "Enter one of your favorite subjects: ai\n",
            "Enter one of your favorite subjects: math\n",
            "Enter one of your favorite subjects: phy\n",
            "🧠 Wow! AI is the future. Great choice!\n",
            "➗ Math is powerful for AI!\n",
            "✅ That's a nice subject too!\n",
            "\n",
            "Thanks afnan! Keep learning and keep growing! 🚀\n"
          ]
        }
      ]
    }
  ]
}