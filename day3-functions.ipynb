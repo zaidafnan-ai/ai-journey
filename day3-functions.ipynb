{
  "nbformat": 4,
  "nbformat_minor": 0,
  "metadata": {
    "colab": {
      "provenance": [],
      "authorship_tag": "ABX9TyNX8Kwi0tF3FeCTCRVBbLaF",
      "include_colab_link": true
    },
    "kernelspec": {
      "name": "python3",
      "display_name": "Python 3"
    },
    "language_info": {
      "name": "python"
    }
  },
  "cells": [
    {
      "cell_type": "markdown",
      "metadata": {
        "id": "view-in-github",
        "colab_type": "text"
      },
      "source": [
        "<a href=\"https://colab.research.google.com/github/zaidafnan-ai/ai-journey/blob/week-1/day3-functions.ipynb\" target=\"_parent\"><img src=\"https://colab.research.google.com/assets/colab-badge.svg\" alt=\"Open In Colab\"/></a>"
      ]
    },
    {
      "cell_type": "code",
      "source": [
        "def subject(nameit):\n",
        "   nameit=input(\"enter the subject name \")\n",
        "   if nameit==\"ai\":\n",
        "      print(\"I love AI!\")\n",
        "   else:\n",
        "      print(\"this is also good subject\")\n",
        "subject(\"ai\")"
      ],
      "metadata": {
        "colab": {
          "base_uri": "https://localhost:8080/"
        },
        "id": "T9RKPw6iMfrp",
        "outputId": "cd98d7ff-0832-435d-88ab-788299ba42ba"
      },
      "execution_count": 43,
      "outputs": [
        {
          "output_type": "stream",
          "name": "stdout",
          "text": [
            "enter the subject name math\n",
            "this is also good subject\n"
          ]
        }
      ]
    },
    {
      "cell_type": "code",
      "source": [
        "def subject_response(subject):\n",
        "    if subject.lower() == \"ai\":\n",
        "        return \"I love AI!\"\n",
        "    else:\n",
        "        return \"That's a nice subject too!\"\n",
        "\n",
        "# Try it\n",
        "print(subject_response(\"AI\"))\n",
        "print(subject_response(\"Math\"))"
      ],
      "metadata": {
        "colab": {
          "base_uri": "https://localhost:8080/"
        },
        "id": "d0S4K9GMRoEd",
        "outputId": "c92894bd-3e2e-4d85-85f7-fa089ed677f9"
      },
      "execution_count": 36,
      "outputs": [
        {
          "output_type": "stream",
          "name": "stdout",
          "text": [
            "I love AI!\n",
            "That's a nice subject too!\n"
          ]
        }
      ]
    },
    {
      "cell_type": "code",
      "source": [
        "def add_numbers(a, b):\n",
        "    return a + b\n",
        "\n",
        "sum_result = add_numbers(10, 20)\n",
        "print(\"Sum is:\", sum_result)"
      ],
      "metadata": {
        "colab": {
          "base_uri": "https://localhost:8080/"
        },
        "id": "HhUWHAEcMUTt",
        "outputId": "a666c69f-f4e6-477f-c500-3af047496aa3"
      },
      "execution_count": 31,
      "outputs": [
        {
          "output_type": "stream",
          "name": "stdout",
          "text": [
            "Sum is: 30\n"
          ]
        }
      ]
    }
  ]
}