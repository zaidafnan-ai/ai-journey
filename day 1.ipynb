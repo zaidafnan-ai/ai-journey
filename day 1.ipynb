{
  "nbformat": 4,
  "nbformat_minor": 0,
  "metadata": {
    "colab": {
      "provenance": []
    },
    "kernelspec": {
      "name": "python3",
      "display_name": "Python 3"
    },
    "language_info": {
      "name": "python"
    }
  },
  "cells": [
    {
      "cell_type": "code",
      "source": [
        "your_name = \"Afnan\"\n",
        "your_age = 30\n",
        "print(\"Name:\", your_name)\n",
        "print(\"Age x 5 =\", your_age * 5)\n"
      ],
      "metadata": {
        "colab": {
          "base_uri": "https://localhost:8080/"
        },
        "id": "T9RKPw6iMfrp",
        "outputId": "768c7036-d25d-448b-902b-8ae68b8f43d0"
      },
      "execution_count": 3,
      "outputs": [
        {
          "output_type": "stream",
          "name": "stdout",
          "text": [
            "Name: Afnan\n",
            "Age x 5 = 150\n"
          ]
        }
      ]
    }
  ]
}